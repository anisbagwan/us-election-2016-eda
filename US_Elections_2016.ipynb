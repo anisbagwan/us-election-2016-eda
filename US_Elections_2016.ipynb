{
  "nbformat": 4,
  "nbformat_minor": 0,
  "metadata": {
    "colab": {
      "name": "US Elections 2016.ipynb",
      "provenance": [],
      "mount_file_id": "1A698OwD-Ks9OTcAMRuIOpurBtzT-v6KU",
      "authorship_tag": "ABX9TyPRJKAJOiNVfZDJo6n/9tSx",
      "include_colab_link": true
    },
    "kernelspec": {
      "name": "python3",
      "display_name": "Python 3"
    },
    "language_info": {
      "name": "python"
    }
  },
  "cells": [
    {
      "cell_type": "markdown",
      "metadata": {
        "id": "view-in-github",
        "colab_type": "text"
      },
      "source": [
        "<a href=\"https://colab.research.google.com/github/anisbagwan/us-election-2016-eda/blob/main/US_Elections_2016.ipynb\" target=\"_parent\"><img src=\"https://colab.research.google.com/assets/colab-badge.svg\" alt=\"Open In Colab\"/></a>"
      ]
    },
    {
      "cell_type": "code",
      "source": [
        "# Importing important Libraries\n",
        "\n",
        "import pandas as pd                     # To bring data analysis tools and libraries\n",
        "import numpy as np                      # To perform numerical/mathematical operation on array\n",
        "import matplotlib.pyplot as plt         # For plotting data\n",
        "import seaborn as sns                   # For statistical graphics\n",
        "\n",
        "import warnings\n",
        "warnings.filterwarnings(\"ignore\")"
      ],
      "metadata": {
        "id": "9jxQFbXwY0RM"
      },
      "execution_count": 1,
      "outputs": []
    },
    {
      "cell_type": "code",
      "execution_count": 2,
      "metadata": {
        "id": "Z3dC0x0gYIQ4"
      },
      "outputs": [],
      "source": [
        "# Importing the dataset\n",
        "\n",
        "df =pd.read_csv('/content/drive/MyDrive/Coursera Applied Plotting Charting/us-election-2016-results-by-county.csv')"
      ]
    },
    {
      "cell_type": "code",
      "source": [
        "df.head(5)"
      ],
      "metadata": {
        "colab": {
          "base_uri": "https://localhost:8080/",
          "height": 206
        },
        "id": "unRjiA_8YyTe",
        "outputId": "60ca5364-c708-4dd8-84c4-01fb32da38e4"
      },
      "execution_count": 20,
      "outputs": [
        {
          "output_type": "execute_result",
          "data": {
            "text/plain": [
              "  StateCode StateName  CountyFips CountyName  CountyTotalVote Party Candidate  \\\n",
              "0        AK    alaska        2000     Alaska           246588   GOP     Trump   \n",
              "1        AL   alabama        1087      Macon             8748   GOP     Trump   \n",
              "2        AL   alabama        1131     Wilcox             6095   GOP     Trump   \n",
              "3        AL   alabama        1037      Coosa             5223   GOP     Trump   \n",
              "4        AL   alabama        1009     Blount            25384   GOP     Trump   \n",
              "\n",
              "   VoteCount  \n",
              "0     130415  \n",
              "1       1394  \n",
              "2       1737  \n",
              "3       3376  \n",
              "4      22808  "
            ],
            "text/html": [
              "\n",
              "  <div id=\"df-812b3c21-ce71-4e8c-9305-f7db08ac6ed7\">\n",
              "    <div class=\"colab-df-container\">\n",
              "      <div>\n",
              "<style scoped>\n",
              "    .dataframe tbody tr th:only-of-type {\n",
              "        vertical-align: middle;\n",
              "    }\n",
              "\n",
              "    .dataframe tbody tr th {\n",
              "        vertical-align: top;\n",
              "    }\n",
              "\n",
              "    .dataframe thead th {\n",
              "        text-align: right;\n",
              "    }\n",
              "</style>\n",
              "<table border=\"1\" class=\"dataframe\">\n",
              "  <thead>\n",
              "    <tr style=\"text-align: right;\">\n",
              "      <th></th>\n",
              "      <th>StateCode</th>\n",
              "      <th>StateName</th>\n",
              "      <th>CountyFips</th>\n",
              "      <th>CountyName</th>\n",
              "      <th>CountyTotalVote</th>\n",
              "      <th>Party</th>\n",
              "      <th>Candidate</th>\n",
              "      <th>VoteCount</th>\n",
              "    </tr>\n",
              "  </thead>\n",
              "  <tbody>\n",
              "    <tr>\n",
              "      <th>0</th>\n",
              "      <td>AK</td>\n",
              "      <td>alaska</td>\n",
              "      <td>2000</td>\n",
              "      <td>Alaska</td>\n",
              "      <td>246588</td>\n",
              "      <td>GOP</td>\n",
              "      <td>Trump</td>\n",
              "      <td>130415</td>\n",
              "    </tr>\n",
              "    <tr>\n",
              "      <th>1</th>\n",
              "      <td>AL</td>\n",
              "      <td>alabama</td>\n",
              "      <td>1087</td>\n",
              "      <td>Macon</td>\n",
              "      <td>8748</td>\n",
              "      <td>GOP</td>\n",
              "      <td>Trump</td>\n",
              "      <td>1394</td>\n",
              "    </tr>\n",
              "    <tr>\n",
              "      <th>2</th>\n",
              "      <td>AL</td>\n",
              "      <td>alabama</td>\n",
              "      <td>1131</td>\n",
              "      <td>Wilcox</td>\n",
              "      <td>6095</td>\n",
              "      <td>GOP</td>\n",
              "      <td>Trump</td>\n",
              "      <td>1737</td>\n",
              "    </tr>\n",
              "    <tr>\n",
              "      <th>3</th>\n",
              "      <td>AL</td>\n",
              "      <td>alabama</td>\n",
              "      <td>1037</td>\n",
              "      <td>Coosa</td>\n",
              "      <td>5223</td>\n",
              "      <td>GOP</td>\n",
              "      <td>Trump</td>\n",
              "      <td>3376</td>\n",
              "    </tr>\n",
              "    <tr>\n",
              "      <th>4</th>\n",
              "      <td>AL</td>\n",
              "      <td>alabama</td>\n",
              "      <td>1009</td>\n",
              "      <td>Blount</td>\n",
              "      <td>25384</td>\n",
              "      <td>GOP</td>\n",
              "      <td>Trump</td>\n",
              "      <td>22808</td>\n",
              "    </tr>\n",
              "  </tbody>\n",
              "</table>\n",
              "</div>\n",
              "      <button class=\"colab-df-convert\" onclick=\"convertToInteractive('df-812b3c21-ce71-4e8c-9305-f7db08ac6ed7')\"\n",
              "              title=\"Convert this dataframe to an interactive table.\"\n",
              "              style=\"display:none;\">\n",
              "        \n",
              "  <svg xmlns=\"http://www.w3.org/2000/svg\" height=\"24px\"viewBox=\"0 0 24 24\"\n",
              "       width=\"24px\">\n",
              "    <path d=\"M0 0h24v24H0V0z\" fill=\"none\"/>\n",
              "    <path d=\"M18.56 5.44l.94 2.06.94-2.06 2.06-.94-2.06-.94-.94-2.06-.94 2.06-2.06.94zm-11 1L8.5 8.5l.94-2.06 2.06-.94-2.06-.94L8.5 2.5l-.94 2.06-2.06.94zm10 10l.94 2.06.94-2.06 2.06-.94-2.06-.94-.94-2.06-.94 2.06-2.06.94z\"/><path d=\"M17.41 7.96l-1.37-1.37c-.4-.4-.92-.59-1.43-.59-.52 0-1.04.2-1.43.59L10.3 9.45l-7.72 7.72c-.78.78-.78 2.05 0 2.83L4 21.41c.39.39.9.59 1.41.59.51 0 1.02-.2 1.41-.59l7.78-7.78 2.81-2.81c.8-.78.8-2.07 0-2.86zM5.41 20L4 18.59l7.72-7.72 1.47 1.35L5.41 20z\"/>\n",
              "  </svg>\n",
              "      </button>\n",
              "      \n",
              "  <style>\n",
              "    .colab-df-container {\n",
              "      display:flex;\n",
              "      flex-wrap:wrap;\n",
              "      gap: 12px;\n",
              "    }\n",
              "\n",
              "    .colab-df-convert {\n",
              "      background-color: #E8F0FE;\n",
              "      border: none;\n",
              "      border-radius: 50%;\n",
              "      cursor: pointer;\n",
              "      display: none;\n",
              "      fill: #1967D2;\n",
              "      height: 32px;\n",
              "      padding: 0 0 0 0;\n",
              "      width: 32px;\n",
              "    }\n",
              "\n",
              "    .colab-df-convert:hover {\n",
              "      background-color: #E2EBFA;\n",
              "      box-shadow: 0px 1px 2px rgba(60, 64, 67, 0.3), 0px 1px 3px 1px rgba(60, 64, 67, 0.15);\n",
              "      fill: #174EA6;\n",
              "    }\n",
              "\n",
              "    [theme=dark] .colab-df-convert {\n",
              "      background-color: #3B4455;\n",
              "      fill: #D2E3FC;\n",
              "    }\n",
              "\n",
              "    [theme=dark] .colab-df-convert:hover {\n",
              "      background-color: #434B5C;\n",
              "      box-shadow: 0px 1px 3px 1px rgba(0, 0, 0, 0.15);\n",
              "      filter: drop-shadow(0px 1px 2px rgba(0, 0, 0, 0.3));\n",
              "      fill: #FFFFFF;\n",
              "    }\n",
              "  </style>\n",
              "\n",
              "      <script>\n",
              "        const buttonEl =\n",
              "          document.querySelector('#df-812b3c21-ce71-4e8c-9305-f7db08ac6ed7 button.colab-df-convert');\n",
              "        buttonEl.style.display =\n",
              "          google.colab.kernel.accessAllowed ? 'block' : 'none';\n",
              "\n",
              "        async function convertToInteractive(key) {\n",
              "          const element = document.querySelector('#df-812b3c21-ce71-4e8c-9305-f7db08ac6ed7');\n",
              "          const dataTable =\n",
              "            await google.colab.kernel.invokeFunction('convertToInteractive',\n",
              "                                                     [key], {});\n",
              "          if (!dataTable) return;\n",
              "\n",
              "          const docLinkHtml = 'Like what you see? Visit the ' +\n",
              "            '<a target=\"_blank\" href=https://colab.research.google.com/notebooks/data_table.ipynb>data table notebook</a>'\n",
              "            + ' to learn more about interactive tables.';\n",
              "          element.innerHTML = '';\n",
              "          dataTable['output_type'] = 'display_data';\n",
              "          await google.colab.output.renderOutput(dataTable, element);\n",
              "          const docLink = document.createElement('div');\n",
              "          docLink.innerHTML = docLinkHtml;\n",
              "          element.appendChild(docLink);\n",
              "        }\n",
              "      </script>\n",
              "    </div>\n",
              "  </div>\n",
              "  "
            ]
          },
          "metadata": {},
          "execution_count": 20
        }
      ]
    },
    {
      "cell_type": "code",
      "source": [
        "# checking the unique values \n",
        "df.nunique()"
      ],
      "metadata": {
        "colab": {
          "base_uri": "https://localhost:8080/"
        },
        "id": "Es8CI745ZQmI",
        "outputId": "a570e856-de42-4c7c-f0bf-8108e1d6b698"
      },
      "execution_count": 4,
      "outputs": [
        {
          "output_type": "execute_result",
          "data": {
            "text/plain": [
              "StateCode            51\n",
              "StateName            51\n",
              "CountyFips         3113\n",
              "CountyName         1838\n",
              "CountyTotalVote    2962\n",
              "Party                 5\n",
              "Candidate             5\n",
              "VoteCount          6112\n",
              "dtype: int64"
            ]
          },
          "metadata": {},
          "execution_count": 4
        }
      ]
    },
    {
      "cell_type": "code",
      "source": [
        "# Display shape of data\n",
        "print(f'Our dataset has {df.shape[0]} rows and {df.shape[1]} columns.')\n",
        "\n",
        "#Display column names\n",
        "print(f'Our dataset has following columns -\\n {list(df.columns)}')"
      ],
      "metadata": {
        "colab": {
          "base_uri": "https://localhost:8080/"
        },
        "id": "SeRZ5gjcbzW9",
        "outputId": "26dfa229-5f38-46e2-9c0e-c91679541ed2"
      },
      "execution_count": 5,
      "outputs": [
        {
          "output_type": "stream",
          "name": "stdout",
          "text": [
            "Our dataset has 15565 rows and 8 columns.\n",
            "Our dataset has following columns -\n",
            " ['StateCode', 'StateName', 'CountyFips', 'CountyName', 'CountyTotalVote', 'Party', 'Candidate', 'VoteCount']\n"
          ]
        }
      ]
    },
    {
      "cell_type": "code",
      "source": [
        "# Display information of all columns\n",
        "df.info()"
      ],
      "metadata": {
        "colab": {
          "base_uri": "https://localhost:8080/"
        },
        "id": "6a2jOYsUb9F7",
        "outputId": "a5482515-13c3-4cc5-9ca0-f2911d8decda"
      },
      "execution_count": 6,
      "outputs": [
        {
          "output_type": "stream",
          "name": "stdout",
          "text": [
            "<class 'pandas.core.frame.DataFrame'>\n",
            "RangeIndex: 15565 entries, 0 to 15564\n",
            "Data columns (total 8 columns):\n",
            " #   Column           Non-Null Count  Dtype  \n",
            "---  ------           --------------  -----  \n",
            " 0   StateCode        15565 non-null  object \n",
            " 1   StateName        15565 non-null  object \n",
            " 2   CountyFips       15565 non-null  int64  \n",
            " 3   CountyName       15565 non-null  object \n",
            " 4   CountyTotalVote  15565 non-null  int64  \n",
            " 5   Party            15565 non-null  object \n",
            " 6   Candidate        15565 non-null  object \n",
            " 7   VoteCount        13227 non-null  float64\n",
            "dtypes: float64(1), int64(2), object(5)\n",
            "memory usage: 972.9+ KB\n"
          ]
        }
      ]
    },
    {
      "cell_type": "markdown",
      "source": [
        "# Data Cleaning"
      ],
      "metadata": {
        "id": "rGrRwdHvxwok"
      }
    },
    {
      "cell_type": "code",
      "source": [
        "# Display null values numbers in each column\n",
        "df.isnull().sum()"
      ],
      "metadata": {
        "colab": {
          "base_uri": "https://localhost:8080/"
        },
        "id": "xwjFG7LxcKkN",
        "outputId": "86d9aa88-3222-4f29-a6de-faf08d159539"
      },
      "execution_count": 11,
      "outputs": [
        {
          "output_type": "execute_result",
          "data": {
            "text/plain": [
              "StateCode             0\n",
              "StateName             0\n",
              "CountyFips            0\n",
              "CountyName            0\n",
              "CountyTotalVote       0\n",
              "Party                 0\n",
              "Candidate             0\n",
              "VoteCount          2338\n",
              "dtype: int64"
            ]
          },
          "metadata": {},
          "execution_count": 11
        }
      ]
    },
    {
      "cell_type": "code",
      "source": [
        "#Fill 0 at all the missing values\n",
        "df.fillna(0,inplace=True)"
      ],
      "metadata": {
        "id": "mleFFDLZffLM"
      },
      "execution_count": 12,
      "outputs": []
    },
    {
      "cell_type": "code",
      "source": [
        "# Let's convert VoteCount column's data type to int\n",
        "df['VoteCount']=df['VoteCount'].astype(int)"
      ],
      "metadata": {
        "id": "9xJ9fzv5khaF"
      },
      "execution_count": 13,
      "outputs": []
    },
    {
      "cell_type": "code",
      "source": [
        "# Checking for duplicates\n",
        "check_dupl = df.duplicated(keep = False).any()\n",
        "if check_dupl == False:\n",
        "    print('There are no duplicate rows in our data')\n",
        "else:\n",
        "    print ('There are duplicate rows in our data')"
      ],
      "metadata": {
        "colab": {
          "base_uri": "https://localhost:8080/"
        },
        "id": "AqmhUyeQfq8a",
        "outputId": "848e71d9-b81d-4072-82d8-cc9262c027f6"
      },
      "execution_count": 14,
      "outputs": [
        {
          "output_type": "stream",
          "name": "stdout",
          "text": [
            "There are no duplicate rows in our data\n"
          ]
        }
      ]
    },
    {
      "cell_type": "markdown",
      "source": [
        "# Exploratory Data Analysis"
      ],
      "metadata": {
        "id": "OnZ1LRfyjgec"
      }
    },
    {
      "cell_type": "markdown",
      "source": [
        "## 1. What is the Candidate vise vote count?"
      ],
      "metadata": {
        "id": "LWK1TyXGjnD8"
      }
    },
    {
      "cell_type": "code",
      "source": [
        "\n",
        "\n",
        "votecount= df.groupby(['Candidate'])['VoteCount'].sum().plot.bar(               # Grouping Candidate and VoteCount columns by the total count.\n",
        "            width=0.5,\n",
        "            linewidth=1,\n",
        "            figsize = (10,6),\n",
        "            fontsize = 10,\n",
        "            cmap='flare') \n",
        "plots=votecount  \n",
        "\n",
        "for bar in plots.patches:                                                       # Iterrating over the bars one-by-one\n",
        "    plots.annotate(format(bar.get_height(), '1.0f'), \n",
        "                   (bar.get_x() + bar.get_width() / 2, \n",
        "                    bar.get_height()), ha='center', va='center',                # ha and va stand for the horizontal and vertical alignment\n",
        "                   size=10, xytext=(0, 5),\n",
        "                   textcoords='offset points')\n",
        "    \n",
        "# Removing all ticks and label\n",
        "plt.tick_params(top=False, bottom=False, left=False, right=False,\n",
        "                labelleft=False, labelbottom=True)\n",
        "\n",
        "# remove the frame of the chart\n",
        "for spine in plt.gca().spines.values():\n",
        "    spine.set_visible(False)\n",
        "    \n",
        "votecount.set_title('Distribution of number of votes per candidate',            # setting title\n",
        "                     fontsize=12)  \n",
        "votecount.set_xlabel('Candidates',fontsize=10)                                  # setting x-label\n",
        "votecount.set_ylabel('', fontsize=10)                                           # setting y-label\n",
        "plt.grid(b=None,axis='both')                                        "
      ],
      "metadata": {
        "colab": {
          "base_uri": "https://localhost:8080/",
          "height": 433
        },
        "id": "PmlntdF9kd6v",
        "outputId": "7126fbb0-8c50-49ed-8f3d-a3994b6b8298"
      },
      "execution_count": 56,
      "outputs": [
        {
          "output_type": "display_data",
          "data": {
            "text/plain": [
              "<Figure size 720x432 with 1 Axes>"
            ],
            "image/png": "[encoded data removed]"
          },
          "metadata": {}
        }
      ]
    },
    {
      "cell_type": "markdown",
      "source": [
        "## 2. What are the top 10 states?"
      ],
      "metadata": {
        "id": "WonB4xOrsMwL"
      }
    },
    {
      "cell_type": "code",
      "source": [
        "plt.figure(figsize=(10,6))\n",
        "sns.set_style(\"whitegrid\")\n",
        "\n",
        "# Plotting the count plot\n",
        "ax=sns.countplot(x=df['StateName'],order=df['StateName'].value_counts().index[:10],palette='rocket')\n",
        "\n",
        "#Anotate the bars with their values\n",
        "for bar in ax.patches:\n",
        "  ax.annotate(format(bar.get_height()),\n",
        "                   (bar.get_x() + bar.get_width() / 2,\n",
        "                    bar.get_height()), ha='center', va='center',\n",
        "                   size=12,color='#607B8B', \n",
        "                   xytext=(0, 8),\n",
        "                   textcoords='offset points')\n",
        "\n",
        "\n",
        "# Removing all ticks and label\n",
        "plt.tick_params(top=False, bottom=False, left=False, right=False, \n",
        "                labelleft=False, labelbottom=True)\n",
        "\n",
        "# Draw grid lines with red color and dashed style\n",
        "plt.grid(color='#E8E8E8', linestyle='--', linewidth=0.7)\n",
        "\n",
        "# remove the frame of the chart\n",
        "for spine in plt.gca().spines.values():\n",
        "    spine.set_visible(False)\n",
        "\n",
        "ax.set(xlabel=\"States\", ylabel = \"\")\n",
        "plt.title(\"Top 10 States\",alpha=0.7)\n",
        "\n",
        "plt.show()"
      ],
      "metadata": {
        "colab": {
          "base_uri": "https://localhost:8080/",
          "height": 404
        },
        "id": "CncSX1MGn5al",
        "outputId": "1dffec33-638b-4082-b76d-cfef35049ac1"
      },
      "execution_count": 47,
      "outputs": [
        {
          "output_type": "display_data",
          "data": {
            "text/plain": [
              "<Figure size 720x432 with 1 Axes>"
            ],
            "image/png": "[encoded data removed]"
          },
          "metadata": {}
        }
      ]
    },
    {
      "cell_type": "markdown",
      "source": [
        "## 3. What are the top 10 Counties?"
      ],
      "metadata": {
        "id": "Xf3JgzwesakO"
      }
    },
    {
      "cell_type": "code",
      "source": [
        "# Let's check the total count of each class\n",
        "plt.figure(figsize=(10,6))\n",
        "plt.grid(b=False,axis='both')\n",
        "\n",
        "#Plotting the values in dependent variable\n",
        "ax=sns.countplot(x=\"CountyName\", data=df,order = df['CountyName'].value_counts().index[:10],\n",
        "            palette=\"rocket\")\n",
        "\n",
        "#Anotate the bars with their values\n",
        "for bar in ax.patches:\n",
        "  ax.annotate(format(bar.get_height()),\n",
        "                   (bar.get_x() + bar.get_width() / 2,\n",
        "                    bar.get_height()), ha='center', va='center',\n",
        "                   size=12,color='#607B8B', \n",
        "                   xytext=(0, 8),\n",
        "                   textcoords='offset points')\n",
        "# Removing all ticks and label\n",
        "plt.tick_params(top=False, bottom=False, left=False, right=False, labelleft=False, labelbottom=True)\n",
        "\n",
        "# remove the frame of the chart\n",
        "for spine in plt.gca().spines.values():\n",
        "    spine.set_visible(False)\n",
        "\n",
        "# Draw grid lines with red color and dashed style\n",
        "plt.grid(color='#E8E8E8', linestyle='--', linewidth=0.7)\n",
        "\n",
        "\n",
        "ax.set(xlabel=\"Counties\", ylabel = \"\")\n",
        "plt.title(\"Top 10 Counties \")\n",
        "\n",
        "\n",
        "plt.show()"
      ],
      "metadata": {
        "colab": {
          "base_uri": "https://localhost:8080/",
          "height": 404
        },
        "id": "9Xdfr0VTnWMd",
        "outputId": "26751cfe-fe6f-4902-9ce0-cfd84c60f5f2"
      },
      "execution_count": 38,
      "outputs": [
        {
          "output_type": "display_data",
          "data": {
            "text/plain": [
              "<Figure size 720x432 with 1 Axes>"
            ],
            "image/png": "[encoded data removed]"
          },
          "metadata": {}
        }
      ]
    },
    {
      "cell_type": "markdown",
      "source": [
        "## 4. What is the count of CountyFips with respect to each party?"
      ],
      "metadata": {
        "id": "CenkSxPisjLD"
      }
    },
    {
      "cell_type": "code",
      "source": [
        "# Let's check the total count of each parties\n",
        "plt.figure(figsize=(10,6))\n",
        "plt.grid(b=False,axis='both')\n",
        "\n",
        "#Plotting the values in dependent variable\n",
        "ax=sns.countplot(x=\"Party\", data=df,order = df['Party'].value_counts().index[:10],\n",
        "            palette=\"rocket\")\n",
        "\n",
        "#Anotate the bars with their values\n",
        "for bar in ax.patches:\n",
        "  ax.annotate(format(bar.get_height()),\n",
        "                   (bar.get_x() + bar.get_width() / 2,\n",
        "                    bar.get_height()), ha='center', va='center',\n",
        "                   size=12,color='#607B8B', \n",
        "                   xytext=(0, 8),\n",
        "                   textcoords='offset points')\n",
        "# Removing all ticks and label\n",
        "plt.tick_params(top=False, bottom=False, left=False, right=False, labelleft=False, labelbottom=True)\n",
        "\n",
        "# remove the frame of the chart\n",
        "for spine in plt.gca().spines.values():\n",
        "    spine.set_visible(False)\n",
        "\n",
        "ax.set(xlabel=\"Counties\", ylabel = \"\")\n",
        "plt.title(\"Count of Parties\")\n",
        "\n",
        "\n",
        "plt.show()"
      ],
      "metadata": {
        "id": "i6ssKpu8nXuG",
        "colab": {
          "base_uri": "https://localhost:8080/",
          "height": 404
        },
        "outputId": "107080ce-c346-47a6-d769-8cb1da187d61"
      },
      "execution_count": 36,
      "outputs": [
        {
          "output_type": "display_data",
          "data": {
            "text/plain": [
              "<Figure size 720x432 with 1 Axes>"
            ],
            "image/png": "[encoded data removed]"
          },
          "metadata": {}
        }
      ]
    }
  ]
}